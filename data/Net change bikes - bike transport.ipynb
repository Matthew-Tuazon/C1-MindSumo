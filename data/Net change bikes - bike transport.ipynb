{
 "cells": [
  {
   "cell_type": "code",
   "execution_count": 1,
   "metadata": {},
   "outputs": [],
   "source": [
    "import pandas as pd\n",
    "import numpy as np\n",
    "import matplotlib.pyplot as plt\n"
   ]
  },
  {
   "cell_type": "code",
   "execution_count": 2,
   "metadata": {},
   "outputs": [
    {
     "name": "stderr",
     "output_type": "stream",
     "text": [
      "/Users/matttuazon/anaconda3/lib/python3.7/site-packages/IPython/core/interactiveshell.py:2785: DtypeWarning: Columns (14) have mixed types. Specify dtype option on import or set low_memory=False.\n",
      "  interactivity=interactivity, compiler=compiler, result=result)\n"
     ]
    }
   ],
   "source": [
    "%matplotlib inline\n",
    "df = pd.read_csv('metro-bike-share-trip-data.csv')"
   ]
  },
  {
   "cell_type": "code",
   "execution_count": 3,
   "metadata": {},
   "outputs": [],
   "source": [
    "#Replaces spaces with _ and get rid of parenthesis \n",
    "df.columns = df.columns.str.replace(' ', '_').str.replace('(', '').str.replace(')', '')"
   ]
  },
  {
   "cell_type": "code",
   "execution_count": 4,
   "metadata": {},
   "outputs": [
    {
     "data": {
      "text/plain": [
       "0         {'longitude': '-118.23721', 'latitude': '34.05...\n",
       "1         {'longitude': '-118.23721', 'latitude': '34.05...\n",
       "2         {'longitude': '-118.24156', 'latitude': '34.05...\n",
       "3         {'longitude': '-118.24156', 'latitude': '34.05...\n",
       "4         {'longitude': '-118.25588', 'latitude': '34.04...\n",
       "5         {'longitude': '-118.23649', 'latitude': '34.03...\n",
       "6         {'longitude': '-118.23721', 'latitude': '34.05...\n",
       "7         {'longitude': '-118.25905', 'latitude': '34.04...\n",
       "8         {'longitude': '-118.25244', 'latitude': '34.04...\n",
       "9         {'longitude': '-118.23894', 'latitude': '34.06...\n",
       "10        {'longitude': '-118.2664', 'latitude': '34.039...\n",
       "11        {'longitude': '-118.25905', 'latitude': '34.04...\n",
       "12        {'longitude': '-118.24353', 'latitude': '34.05...\n",
       "13        {'longitude': '-118.26014', 'latitude': '34.04...\n",
       "14        {'longitude': '-118.24353', 'latitude': '34.05...\n",
       "15        {'longitude': '-118.25384', 'latitude': '34.04...\n",
       "16        {'longitude': '-118.2558', 'latitude': '34.040...\n",
       "17        {'longitude': '-118.25459', 'latitude': '34.05...\n",
       "18        {'longitude': '-118.24156', 'latitude': '34.05...\n",
       "19        {'longitude': '-118.25283', 'latitude': '34.04...\n",
       "20        {'longitude': '-118.25095', 'latitude': '34.05...\n",
       "21        {'longitude': '-118.23721', 'latitude': '34.05...\n",
       "22        {'longitude': '-118.26086', 'latitude': '34.03...\n",
       "23        {'longitude': '-118.23721', 'latitude': '34.05...\n",
       "24        {'longitude': '-118.2558', 'latitude': '34.040...\n",
       "25        {'longitude': '-118.26456', 'latitude': '34.05...\n",
       "26        {'longitude': '-118.23703', 'latitude': '34.04...\n",
       "27        {'longitude': '-118.25095', 'latitude': '34.05...\n",
       "28        {'longitude': '-118.24353', 'latitude': '34.05...\n",
       "29        {'longitude': '-118.23128', 'latitude': '34.03...\n",
       "                                ...                        \n",
       "132397    {'longitude': '-118.259048', 'latitude': '34.0...\n",
       "132398    {'longitude': '-118.23317', 'latitude': '34.03...\n",
       "132399    {'longitude': '-118.264557', 'latitude': '34.0...\n",
       "132400    {'longitude': '-118.23317', 'latitude': '34.03...\n",
       "132401    {'longitude': '-118.248253', 'latitude': '34.0...\n",
       "132402    {'longitude': '-118.237213', 'latitude': '34.0...\n",
       "132403    {'longitude': '-118.233093', 'latitude': '34.0...\n",
       "132404    {'longitude': '-118.263382', 'latitude': '34.0...\n",
       "132405    {'longitude': '-118.268082', 'latitude': '34.0...\n",
       "132406    {'longitude': '-118.233093', 'latitude': '34.0...\n",
       "132407    {'longitude': '-118.270813', 'latitude': '34.0...\n",
       "132408    {'longitude': '-118.237411', 'latitude': '34.0...\n",
       "132409    {'longitude': '-118.237411', 'latitude': '34.0...\n",
       "132410    {'longitude': '-118.235352', 'latitude': '34.0...\n",
       "132411                                                  nan\n",
       "132412    {'longitude': '-118.256981', 'latitude': '34.0...\n",
       "132413    {'longitude': '-118.256981', 'latitude': '34.0...\n",
       "132414    {'longitude': '-118.23616', 'latitude': '34.06...\n",
       "132415    {'longitude': '-118.256668', 'latitude': '34.0...\n",
       "132416    {'longitude': '-118.256668', 'latitude': '34.0...\n",
       "132417    {'longitude': '-118.251579', 'latitude': '34.0...\n",
       "132418    {'longitude': '-118.256187', 'latitude': '34.0...\n",
       "132419    {'longitude': '-118.256187', 'latitude': '34.0...\n",
       "132420    {'longitude': '-118.251579', 'latitude': '34.0...\n",
       "132421    {'longitude': '-118.260948', 'latitude': '34.0...\n",
       "132422    {'longitude': '-118.260948', 'latitude': '34.0...\n",
       "132423    {'longitude': '-118.260948', 'latitude': '34.0...\n",
       "132424    {'longitude': '-118.236488', 'latitude': '34.0...\n",
       "132425    {'longitude': '-118.236488', 'latitude': '34.0...\n",
       "132426    {'longitude': '-118.246422', 'latitude': '34.0...\n",
       "Name: Ending_Lat-Long, Length: 132427, dtype: object"
      ]
     },
     "execution_count": 4,
     "metadata": {},
     "output_type": "execute_result"
    }
   ],
   "source": [
    "df[\"Trip_ID\"].astype(int)\n",
    "df[\"Duration\"].astype(int)\n",
    "df[\"Start_Time\"].astype(str)\n",
    "df[\"End_Time\"].astype(str)\n",
    "df[\"Starting_Station_ID\"].astype(float)\n",
    "df[\"Starting_Station_Latitude\"].astype(float)\n",
    "df[\"Starting_Station_Longitude\"].astype(float)\n",
    "df[\"Ending_Station_ID\"].astype(float)\n",
    "df[\"Ending_Station_Latitude\"].astype(float)\n",
    "df[\"Ending_Station_Longitude\"].astype(float)\n",
    "df[\"Bike_ID\"].astype(float)\n",
    "df[\"Trip_Route_Category\"].astype(str)\n",
    "df[\"Passholder_Type\"].astype(str)\n",
    "df[\"Starting_Lat-Long\"].astype(str)\n",
    "df[\"Ending_Lat-Long\"].astype(str)"
   ]
  },
  {
   "cell_type": "code",
   "execution_count": 5,
   "metadata": {},
   "outputs": [],
   "source": [
    "#Try figuring out based on time and day: when as well as starting station One-Way trips: where\n",
    "\n",
    "#converts formatting of Start_Time/End_Time data to dateTime\n",
    "df[\"Start_Time\"] = pd.to_datetime(df['Start_Time'])\n",
    "df[\"End_Time\"] = pd.to_datetime(df['End_Time'])\n"
   ]
  },
  {
   "cell_type": "code",
   "execution_count": 16,
   "metadata": {},
   "outputs": [
    {
     "ename": "TypeError",
     "evalue": "'<=' not supported between instances of 'int' and 'builtin_function_or_method'",
     "output_type": "error",
     "traceback": [
      "\u001b[0;31m---------------------------------------------------------------------------\u001b[0m",
      "\u001b[0;31mTypeError\u001b[0m                                 Traceback (most recent call last)",
      "\u001b[0;32m<ipython-input-16-db94822a3db3>\u001b[0m in \u001b[0;36m<module>\u001b[0;34m()\u001b[0m\n\u001b[1;32m      9\u001b[0m         \u001b[0;32mreturn\u001b[0m \u001b[0;34m\"Night Time\"\u001b[0m\u001b[0;34m\u001b[0m\u001b[0m\n\u001b[1;32m     10\u001b[0m \u001b[0;34m\u001b[0m\u001b[0m\n\u001b[0;32m---> 11\u001b[0;31m \u001b[0mTime_Of_Day\u001b[0m \u001b[0;34m=\u001b[0m \u001b[0mpd\u001b[0m\u001b[0;34m.\u001b[0m\u001b[0mSeries\u001b[0m\u001b[0;34m(\u001b[0m\u001b[0mmap\u001b[0m\u001b[0;34m(\u001b[0m\u001b[0mtimeOfDay\u001b[0m\u001b[0;34m,\u001b[0m\u001b[0mdf\u001b[0m\u001b[0;34m[\u001b[0m\u001b[0;34m\"Start_Time\"\u001b[0m\u001b[0;34m]\u001b[0m\u001b[0;34m)\u001b[0m\u001b[0;34m)\u001b[0m\u001b[0;34m\u001b[0m\u001b[0m\n\u001b[0m\u001b[1;32m     12\u001b[0m \u001b[0mdf\u001b[0m\u001b[0;34m[\u001b[0m\u001b[0;34m\"timeOfDay\"\u001b[0m\u001b[0;34m]\u001b[0m \u001b[0;34m=\u001b[0m \u001b[0mtimes\u001b[0m\u001b[0;34m\u001b[0m\u001b[0m\n",
      "\u001b[0;32m~/anaconda3/lib/python3.7/site-packages/pandas/core/series.py\u001b[0m in \u001b[0;36m__init__\u001b[0;34m(self, data, index, dtype, name, copy, fastpath)\u001b[0m\n\u001b[1;32m    237\u001b[0m             elif (isinstance(data, types.GeneratorType) or\n\u001b[1;32m    238\u001b[0m                   (compat.PY3 and isinstance(data, map))):\n\u001b[0;32m--> 239\u001b[0;31m                 \u001b[0mdata\u001b[0m \u001b[0;34m=\u001b[0m \u001b[0mlist\u001b[0m\u001b[0;34m(\u001b[0m\u001b[0mdata\u001b[0m\u001b[0;34m)\u001b[0m\u001b[0;34m\u001b[0m\u001b[0m\n\u001b[0m\u001b[1;32m    240\u001b[0m             \u001b[0;32melif\u001b[0m \u001b[0misinstance\u001b[0m\u001b[0;34m(\u001b[0m\u001b[0mdata\u001b[0m\u001b[0;34m,\u001b[0m \u001b[0;34m(\u001b[0m\u001b[0mset\u001b[0m\u001b[0;34m,\u001b[0m \u001b[0mfrozenset\u001b[0m\u001b[0;34m)\u001b[0m\u001b[0;34m)\u001b[0m\u001b[0;34m:\u001b[0m\u001b[0;34m\u001b[0m\u001b[0m\n\u001b[1;32m    241\u001b[0m                 raise TypeError(\"{0!r} type is unordered\"\n",
      "\u001b[0;32m<ipython-input-16-db94822a3db3>\u001b[0m in \u001b[0;36mtimeOfDay\u001b[0;34m(datetime)\u001b[0m\n\u001b[1;32m      1\u001b[0m \u001b[0;32mdef\u001b[0m \u001b[0mtimeOfDay\u001b[0m\u001b[0;34m(\u001b[0m\u001b[0mdatetime\u001b[0m\u001b[0;34m)\u001b[0m\u001b[0;34m:\u001b[0m\u001b[0;34m\u001b[0m\u001b[0m\n\u001b[0;32m----> 2\u001b[0;31m     \u001b[0;32mif\u001b[0m \u001b[0;36m3\u001b[0m \u001b[0;34m<=\u001b[0m \u001b[0mdatetime\u001b[0m\u001b[0;34m.\u001b[0m\u001b[0mtime\u001b[0m \u001b[0;32mand\u001b[0m \u001b[0mdatetime\u001b[0m\u001b[0;34m.\u001b[0m\u001b[0mtime\u001b[0m \u001b[0;34m<=\u001b[0m \u001b[0;36m9\u001b[0m\u001b[0;34m:\u001b[0m\u001b[0;34m\u001b[0m\u001b[0m\n\u001b[0m\u001b[1;32m      3\u001b[0m         \u001b[0;32mreturn\u001b[0m \u001b[0;34m\"Early Morning\"\u001b[0m\u001b[0;34m\u001b[0m\u001b[0m\n\u001b[1;32m      4\u001b[0m     \u001b[0;32melif\u001b[0m \u001b[0;36m9\u001b[0m \u001b[0;34m<=\u001b[0m \u001b[0mdatetime\u001b[0m\u001b[0;34m.\u001b[0m\u001b[0mtime\u001b[0m \u001b[0;32mand\u001b[0m \u001b[0mdatetime\u001b[0m\u001b[0;34m.\u001b[0m\u001b[0mtime\u001b[0m\u001b[0;34m<=\u001b[0m \u001b[0;36m5\u001b[0m\u001b[0;34m:\u001b[0m\u001b[0;34m\u001b[0m\u001b[0m\n\u001b[1;32m      5\u001b[0m         \u001b[0;32mreturn\u001b[0m \u001b[0;34m\"Work\"\u001b[0m\u001b[0;34m\u001b[0m\u001b[0m\n",
      "\u001b[0;31mTypeError\u001b[0m: '<=' not supported between instances of 'int' and 'builtin_function_or_method'"
     ]
    }
   ],
   "source": [
    "def timeOfDay(datetime):\n",
    "    if 3 <= datetime.time and datetime.time <= 9:\n",
    "        return \"Early Morning\"\n",
    "    elif 9 <= datetime.time and datetime.time<= 5:\n",
    "        return \"Work\"\n",
    "    elif 5 <= datetime.time and datetime.time < 10:\n",
    "        return \"Commute Home\"\n",
    "    elif 10 <= datetime.time or datetime.time < 3:\n",
    "        return \"Night Time\"\n",
    "\n",
    "Time_Of_Day = pd.Series(map(timeOfDay,df[\"Start_Time\"]))\n",
    "df[\"timeOfDay\"] = times"
   ]
  },
  {
   "cell_type": "code",
   "execution_count": null,
   "metadata": {},
   "outputs": [],
   "source": []
  }
 ],
 "metadata": {
  "kernelspec": {
   "display_name": "Python 3",
   "language": "python",
   "name": "python3"
  },
  "language_info": {
   "codemirror_mode": {
    "name": "ipython",
    "version": 3
   },
   "file_extension": ".py",
   "mimetype": "text/x-python",
   "name": "python",
   "nbconvert_exporter": "python",
   "pygments_lexer": "ipython3",
   "version": "3.7.0"
  }
 },
 "nbformat": 4,
 "nbformat_minor": 2
}
