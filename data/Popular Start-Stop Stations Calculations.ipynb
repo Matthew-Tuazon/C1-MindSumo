{
 "cells": [
  {
   "cell_type": "code",
   "execution_count": 1,
   "metadata": {},
   "outputs": [],
   "source": [
    "import pandas as pd\n",
    "import numpy as np\n",
    "import matplotlib.pyplot as plt\n",
    "import geopy\n",
    "from geopy import distance #for distance"
   ]
  },
  {
   "cell_type": "code",
   "execution_count": 2,
   "metadata": {},
   "outputs": [
    {
     "name": "stderr",
     "output_type": "stream",
     "text": [
      "/Users/matttuazon/anaconda3/lib/python3.7/site-packages/IPython/core/interactiveshell.py:2785: DtypeWarning: Columns (14) have mixed types. Specify dtype option on import or set low_memory=False.\n",
      "  interactivity=interactivity, compiler=compiler, result=result)\n"
     ]
    }
   ],
   "source": [
    "%matplotlib inline\n",
    "df = pd.read_csv('metro-bike-share-trip-data.csv')"
   ]
  },
  {
   "cell_type": "code",
   "execution_count": 3,
   "metadata": {},
   "outputs": [],
   "source": [
    "#Replaces spaces with _ and get rid of parenthesis \n",
    "df.columns = df.columns.str.replace(' ', '_').str.replace('(', '').str.replace(')', '')"
   ]
  },
  {
   "cell_type": "code",
   "execution_count": 4,
   "metadata": {},
   "outputs": [
    {
     "data": {
      "text/plain": [
       "0         {'longitude': '-118.23721', 'latitude': '34.05...\n",
       "1         {'longitude': '-118.23721', 'latitude': '34.05...\n",
       "2         {'longitude': '-118.24156', 'latitude': '34.05...\n",
       "3         {'longitude': '-118.24156', 'latitude': '34.05...\n",
       "4         {'longitude': '-118.25588', 'latitude': '34.04...\n",
       "5         {'longitude': '-118.23649', 'latitude': '34.03...\n",
       "6         {'longitude': '-118.23721', 'latitude': '34.05...\n",
       "7         {'longitude': '-118.25905', 'latitude': '34.04...\n",
       "8         {'longitude': '-118.25244', 'latitude': '34.04...\n",
       "9         {'longitude': '-118.23894', 'latitude': '34.06...\n",
       "10        {'longitude': '-118.2664', 'latitude': '34.039...\n",
       "11        {'longitude': '-118.25905', 'latitude': '34.04...\n",
       "12        {'longitude': '-118.24353', 'latitude': '34.05...\n",
       "13        {'longitude': '-118.26014', 'latitude': '34.04...\n",
       "14        {'longitude': '-118.24353', 'latitude': '34.05...\n",
       "15        {'longitude': '-118.25384', 'latitude': '34.04...\n",
       "16        {'longitude': '-118.2558', 'latitude': '34.040...\n",
       "17        {'longitude': '-118.25459', 'latitude': '34.05...\n",
       "18        {'longitude': '-118.24156', 'latitude': '34.05...\n",
       "19        {'longitude': '-118.25283', 'latitude': '34.04...\n",
       "20        {'longitude': '-118.25095', 'latitude': '34.05...\n",
       "21        {'longitude': '-118.23721', 'latitude': '34.05...\n",
       "22        {'longitude': '-118.26086', 'latitude': '34.03...\n",
       "23        {'longitude': '-118.23721', 'latitude': '34.05...\n",
       "24        {'longitude': '-118.2558', 'latitude': '34.040...\n",
       "25        {'longitude': '-118.26456', 'latitude': '34.05...\n",
       "26        {'longitude': '-118.23703', 'latitude': '34.04...\n",
       "27        {'longitude': '-118.25095', 'latitude': '34.05...\n",
       "28        {'longitude': '-118.24353', 'latitude': '34.05...\n",
       "29        {'longitude': '-118.23128', 'latitude': '34.03...\n",
       "                                ...                        \n",
       "132397    {'longitude': '-118.259048', 'latitude': '34.0...\n",
       "132398    {'longitude': '-118.23317', 'latitude': '34.03...\n",
       "132399    {'longitude': '-118.264557', 'latitude': '34.0...\n",
       "132400    {'longitude': '-118.23317', 'latitude': '34.03...\n",
       "132401    {'longitude': '-118.248253', 'latitude': '34.0...\n",
       "132402    {'longitude': '-118.237213', 'latitude': '34.0...\n",
       "132403    {'longitude': '-118.233093', 'latitude': '34.0...\n",
       "132404    {'longitude': '-118.263382', 'latitude': '34.0...\n",
       "132405    {'longitude': '-118.268082', 'latitude': '34.0...\n",
       "132406    {'longitude': '-118.233093', 'latitude': '34.0...\n",
       "132407    {'longitude': '-118.270813', 'latitude': '34.0...\n",
       "132408    {'longitude': '-118.237411', 'latitude': '34.0...\n",
       "132409    {'longitude': '-118.237411', 'latitude': '34.0...\n",
       "132410    {'longitude': '-118.235352', 'latitude': '34.0...\n",
       "132411                                                  nan\n",
       "132412    {'longitude': '-118.256981', 'latitude': '34.0...\n",
       "132413    {'longitude': '-118.256981', 'latitude': '34.0...\n",
       "132414    {'longitude': '-118.23616', 'latitude': '34.06...\n",
       "132415    {'longitude': '-118.256668', 'latitude': '34.0...\n",
       "132416    {'longitude': '-118.256668', 'latitude': '34.0...\n",
       "132417    {'longitude': '-118.251579', 'latitude': '34.0...\n",
       "132418    {'longitude': '-118.256187', 'latitude': '34.0...\n",
       "132419    {'longitude': '-118.256187', 'latitude': '34.0...\n",
       "132420    {'longitude': '-118.251579', 'latitude': '34.0...\n",
       "132421    {'longitude': '-118.260948', 'latitude': '34.0...\n",
       "132422    {'longitude': '-118.260948', 'latitude': '34.0...\n",
       "132423    {'longitude': '-118.260948', 'latitude': '34.0...\n",
       "132424    {'longitude': '-118.236488', 'latitude': '34.0...\n",
       "132425    {'longitude': '-118.236488', 'latitude': '34.0...\n",
       "132426    {'longitude': '-118.246422', 'latitude': '34.0...\n",
       "Name: Ending_Lat-Long, Length: 132427, dtype: object"
      ]
     },
     "execution_count": 4,
     "metadata": {},
     "output_type": "execute_result"
    }
   ],
   "source": [
    "df[\"Trip_ID\"].astype(int)\n",
    "df[\"Duration\"].astype(int)\n",
    "df[\"Start_Time\"].astype(str)\n",
    "df[\"End_Time\"].astype(str)\n",
    "df[\"Starting_Station_ID\"].astype(float)\n",
    "df[\"Starting_Station_Latitude\"].astype(float)\n",
    "df[\"Starting_Station_Longitude\"].astype(float)\n",
    "df[\"Ending_Station_ID\"].astype(float)\n",
    "df[\"Ending_Station_Latitude\"].astype(float)\n",
    "df[\"Ending_Station_Longitude\"].astype(float)\n",
    "df[\"Bike_ID\"].astype(float)\n",
    "df[\"Trip_Route_Category\"].astype(str)\n",
    "df[\"Passholder_Type\"].astype(str)\n",
    "df[\"Starting_Lat-Long\"].astype(str)\n",
    "df[\"Ending_Lat-Long\"].astype(str)"
   ]
  },
  {
   "cell_type": "code",
   "execution_count": 5,
   "metadata": {},
   "outputs": [
    {
     "data": {
      "text/plain": [
       "array([3014., 3016., 3032., 3021., 3022., 3076., 3031., 3063., 3042.,\n",
       "       3018., 3054., 3006., 3037., 3034., 3005., 3047., 3040., 3066.,\n",
       "       3033., 3030., 3051., 3019., 3055., 3065., 3068., 3007., 3052.,\n",
       "       3049., 3075., 3067., 3020., 3035., 3062., 3058., 3045., 3080.,\n",
       "       3038., 3053., 3069., 3036., 3079., 4108., 3060., 3008., 3056.,\n",
       "       3029., 3028., 3023., 3025., 3074., 3057., 3027., 3026., 3078.,\n",
       "       3077., 3059., 3010., 3064., 3046., 3011., 3048., 3081., 3024.,\n",
       "       3082.,   nan, 3000., 3009., 3039.])"
      ]
     },
     "execution_count": 5,
     "metadata": {},
     "output_type": "execute_result"
    }
   ],
   "source": [
    "#gets unique values in station ID column\n",
    "df.Starting_Station_ID.unique()"
   ]
  },
  {
   "cell_type": "code",
   "execution_count": 6,
   "metadata": {},
   "outputs": [
    {
     "data": {
      "text/plain": [
       "3069.0    5138\n",
       "3030.0    5059\n",
       "3005.0    4883\n",
       "3064.0    4661\n",
       "3031.0    4629\n",
       "3014.0    4571\n",
       "3042.0    4015\n",
       "3082.0    3908\n",
       "3022.0    3893\n",
       "3067.0    3797\n",
       "3035.0    3406\n",
       "3038.0    3306\n",
       "3055.0    3270\n",
       "3068.0    3252\n",
       "3049.0    3154\n",
       "3034.0    3037\n",
       "3048.0    3005\n",
       "3063.0    2949\n",
       "3007.0    2785\n",
       "3006.0    2708\n",
       "3027.0    2557\n",
       "3032.0    2466\n",
       "3074.0    2341\n",
       "3062.0    2325\n",
       "3052.0    2253\n",
       "3047.0    2230\n",
       "3008.0    2156\n",
       "3075.0    2125\n",
       "3051.0    2062\n",
       "3023.0    1980\n",
       "          ... \n",
       "3056.0    1461\n",
       "3066.0    1425\n",
       "3046.0    1348\n",
       "3011.0    1257\n",
       "3021.0    1254\n",
       "3018.0    1211\n",
       "3028.0    1179\n",
       "3037.0    1174\n",
       "3036.0    1153\n",
       "3040.0    1023\n",
       "3065.0     992\n",
       "3078.0     879\n",
       "3054.0     865\n",
       "3077.0     802\n",
       "3059.0     742\n",
       "3033.0     709\n",
       "3079.0     693\n",
       "3025.0     626\n",
       "3081.0     593\n",
       "3020.0     528\n",
       "3010.0     427\n",
       "3060.0     383\n",
       "3057.0     380\n",
       "3080.0     191\n",
       "3045.0     187\n",
       "3039.0     115\n",
       "4108.0     108\n",
       "3009.0      56\n",
       "3000.0      29\n",
       "3053.0      13\n",
       "Name: Starting_Station_ID, Length: 67, dtype: int64"
      ]
     },
     "execution_count": 6,
     "metadata": {},
     "output_type": "execute_result"
    }
   ],
   "source": [
    "#grabs count of Starting station ID's, we can see location 3069.0 is most popular with 5138 rentals\n",
    "df.Starting_Station_ID.value_counts()"
   ]
  },
  {
   "cell_type": "code",
   "execution_count": 13,
   "metadata": {},
   "outputs": [
    {
     "data": {
      "text/plain": [
       "<matplotlib.axes._subplots.AxesSubplot at 0x11afe0e48>"
      ]
     },
     "execution_count": 13,
     "metadata": {},
     "output_type": "execute_result"
    },
    {
     "data": {
      "image/png": "[encoded data removed]",
      "text/plain": [
       "<Figure size 432x288 with 1 Axes>"
      ]
     },
     "metadata": {
      "needs_background": "light"
     },
     "output_type": "display_data"
    }
   ],
   "source": [
    "df['Starting_Station_ID'].value_counts().plot(kind='barh')"
   ]
  },
  {
   "cell_type": "code",
   "execution_count": 8,
   "metadata": {},
   "outputs": [
    {
     "data": {
      "text/plain": [
       "3005.0    6262\n",
       "3031.0    5517\n",
       "3014.0    5385\n",
       "3042.0    5293\n",
       "3069.0    5072\n",
       "3082.0    4703\n",
       "3064.0    4605\n",
       "3022.0    4337\n",
       "3030.0    4224\n",
       "3063.0    3763\n",
       "3035.0    3513\n",
       "3067.0    3481\n",
       "3038.0    3194\n",
       "3048.0    3156\n",
       "3034.0    3032\n",
       "3006.0    2826\n",
       "3032.0    2778\n",
       "3023.0    2495\n",
       "3049.0    2489\n",
       "3055.0    2460\n",
       "3074.0    2361\n",
       "3075.0    2276\n",
       "3008.0    2242\n",
       "3062.0    2204\n",
       "3019.0    2175\n",
       "3047.0    1994\n",
       "3007.0    1993\n",
       "3076.0    1960\n",
       "3058.0    1944\n",
       "3051.0    1939\n",
       "          ... \n",
       "3036.0    1424\n",
       "3018.0    1402\n",
       "3029.0    1399\n",
       "3026.0    1212\n",
       "3066.0    1203\n",
       "3046.0    1134\n",
       "3065.0    1016\n",
       "3068.0     983\n",
       "3000.0     955\n",
       "3078.0     883\n",
       "3054.0     840\n",
       "3077.0     811\n",
       "3033.0     778\n",
       "3024.0     760\n",
       "3040.0     737\n",
       "3059.0     722\n",
       "3079.0     717\n",
       "3025.0     713\n",
       "3081.0     644\n",
       "3020.0     604\n",
       "3028.0     521\n",
       "3010.0     412\n",
       "3057.0     399\n",
       "3060.0     389\n",
       "3045.0     319\n",
       "3080.0     178\n",
       "4108.0     155\n",
       "3039.0     115\n",
       "3009.0      68\n",
       "3053.0      12\n",
       "Name: Ending_Station_ID, Length: 67, dtype: int64"
      ]
     },
     "execution_count": 8,
     "metadata": {},
     "output_type": "execute_result"
    }
   ],
   "source": [
    "##grabs count of Ending station ID's, we can see location 3005.0 is most popular with 6262 rentals landed there.\n",
    "df.Ending_Station_ID.value_counts()"
   ]
  },
  {
   "cell_type": "code",
   "execution_count": 14,
   "metadata": {},
   "outputs": [
    {
     "data": {
      "text/plain": [
       "<matplotlib.axes._subplots.AxesSubplot at 0x11b18cf98>"
      ]
     },
     "execution_count": 14,
     "metadata": {},
     "output_type": "execute_result"
    },
    {
     "data": {
      "image/png": "[encoded data removed]",
      "text/plain": [
       "<Figure size 432x288 with 1 Axes>"
      ]
     },
     "metadata": {
      "needs_background": "light"
     },
     "output_type": "display_data"
    }
   ],
   "source": [
    "df['Ending_Station_ID'].value_counts().plot(kind='barh')"
   ]
  },
  {
   "cell_type": "code",
   "execution_count": null,
   "metadata": {},
   "outputs": [],
   "source": []
  }
 ],
 "metadata": {
  "kernelspec": {
   "display_name": "Python 3",
   "language": "python",
   "name": "python3"
  },
  "language_info": {
   "codemirror_mode": {
    "name": "ipython",
    "version": 3
   },
   "file_extension": ".py",
   "mimetype": "text/x-python",
   "name": "python",
   "nbconvert_exporter": "python",
   "pygments_lexer": "ipython3",
   "version": "3.7.0"
  }
 },
 "nbformat": 4,
 "nbformat_minor": 2
}
