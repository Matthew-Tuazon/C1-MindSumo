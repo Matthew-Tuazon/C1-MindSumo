{
 "cells": [
  {
   "cell_type": "code",
   "execution_count": 7,
   "metadata": {},
   "outputs": [],
   "source": [
    "import pandas as pd\n",
    "import numpy as np\n",
    "import matplotlib.pyplot as plt\n",
    "\n",
    "#Monthly, flex, walk-up, and staff annual passes used for round trips\n",
    "monthlyRound = []\n",
    "flexRound = []\n",
    "walkRound = []\n",
    "staffRound = []\n",
    "\n",
    "#Monthly, flex, walk-up, and staff annual passes used for one-way trips\n",
    "monthlyOne = []\n",
    "flexOne = []\n",
    "walkOne = []\n",
    "staffOne = []"
   ]
  },
  {
   "cell_type": "code",
   "execution_count": 2,
   "metadata": {},
   "outputs": [
    {
     "name": "stderr",
     "output_type": "stream",
     "text": [
      "/Users/matttuazon/anaconda3/lib/python3.7/site-packages/IPython/core/interactiveshell.py:2785: DtypeWarning: Columns (14) have mixed types. Specify dtype option on import or set low_memory=False.\n",
      "  interactivity=interactivity, compiler=compiler, result=result)\n"
     ]
    }
   ],
   "source": [
    "%matplotlib inline\n",
    "df = pd.read_csv('metro-bike-share-trip-data.csv')"
   ]
  },
  {
   "cell_type": "code",
   "execution_count": 3,
   "metadata": {},
   "outputs": [],
   "source": [
    "#Replaces spaces with _ and get rid of parenthesis \n",
    "df.columns = df.columns.str.replace(' ', '_').str.replace('(', '').str.replace(')', '')"
   ]
  },
  {
   "cell_type": "code",
   "execution_count": 4,
   "metadata": {},
   "outputs": [
    {
     "data": {
      "text/plain": [
       "0         {'longitude': '-118.23721', 'latitude': '34.05...\n",
       "1         {'longitude': '-118.23721', 'latitude': '34.05...\n",
       "2         {'longitude': '-118.24156', 'latitude': '34.05...\n",
       "3         {'longitude': '-118.24156', 'latitude': '34.05...\n",
       "4         {'longitude': '-118.25588', 'latitude': '34.04...\n",
       "5         {'longitude': '-118.23649', 'latitude': '34.03...\n",
       "6         {'longitude': '-118.23721', 'latitude': '34.05...\n",
       "7         {'longitude': '-118.25905', 'latitude': '34.04...\n",
       "8         {'longitude': '-118.25244', 'latitude': '34.04...\n",
       "9         {'longitude': '-118.23894', 'latitude': '34.06...\n",
       "10        {'longitude': '-118.2664', 'latitude': '34.039...\n",
       "11        {'longitude': '-118.25905', 'latitude': '34.04...\n",
       "12        {'longitude': '-118.24353', 'latitude': '34.05...\n",
       "13        {'longitude': '-118.26014', 'latitude': '34.04...\n",
       "14        {'longitude': '-118.24353', 'latitude': '34.05...\n",
       "15        {'longitude': '-118.25384', 'latitude': '34.04...\n",
       "16        {'longitude': '-118.2558', 'latitude': '34.040...\n",
       "17        {'longitude': '-118.25459', 'latitude': '34.05...\n",
       "18        {'longitude': '-118.24156', 'latitude': '34.05...\n",
       "19        {'longitude': '-118.25283', 'latitude': '34.04...\n",
       "20        {'longitude': '-118.25095', 'latitude': '34.05...\n",
       "21        {'longitude': '-118.23721', 'latitude': '34.05...\n",
       "22        {'longitude': '-118.26086', 'latitude': '34.03...\n",
       "23        {'longitude': '-118.23721', 'latitude': '34.05...\n",
       "24        {'longitude': '-118.2558', 'latitude': '34.040...\n",
       "25        {'longitude': '-118.26456', 'latitude': '34.05...\n",
       "26        {'longitude': '-118.23703', 'latitude': '34.04...\n",
       "27        {'longitude': '-118.25095', 'latitude': '34.05...\n",
       "28        {'longitude': '-118.24353', 'latitude': '34.05...\n",
       "29        {'longitude': '-118.23128', 'latitude': '34.03...\n",
       "                                ...                        \n",
       "132397    {'longitude': '-118.259048', 'latitude': '34.0...\n",
       "132398    {'longitude': '-118.23317', 'latitude': '34.03...\n",
       "132399    {'longitude': '-118.264557', 'latitude': '34.0...\n",
       "132400    {'longitude': '-118.23317', 'latitude': '34.03...\n",
       "132401    {'longitude': '-118.248253', 'latitude': '34.0...\n",
       "132402    {'longitude': '-118.237213', 'latitude': '34.0...\n",
       "132403    {'longitude': '-118.233093', 'latitude': '34.0...\n",
       "132404    {'longitude': '-118.263382', 'latitude': '34.0...\n",
       "132405    {'longitude': '-118.268082', 'latitude': '34.0...\n",
       "132406    {'longitude': '-118.233093', 'latitude': '34.0...\n",
       "132407    {'longitude': '-118.270813', 'latitude': '34.0...\n",
       "132408    {'longitude': '-118.237411', 'latitude': '34.0...\n",
       "132409    {'longitude': '-118.237411', 'latitude': '34.0...\n",
       "132410    {'longitude': '-118.235352', 'latitude': '34.0...\n",
       "132411                                                  nan\n",
       "132412    {'longitude': '-118.256981', 'latitude': '34.0...\n",
       "132413    {'longitude': '-118.256981', 'latitude': '34.0...\n",
       "132414    {'longitude': '-118.23616', 'latitude': '34.06...\n",
       "132415    {'longitude': '-118.256668', 'latitude': '34.0...\n",
       "132416    {'longitude': '-118.256668', 'latitude': '34.0...\n",
       "132417    {'longitude': '-118.251579', 'latitude': '34.0...\n",
       "132418    {'longitude': '-118.256187', 'latitude': '34.0...\n",
       "132419    {'longitude': '-118.256187', 'latitude': '34.0...\n",
       "132420    {'longitude': '-118.251579', 'latitude': '34.0...\n",
       "132421    {'longitude': '-118.260948', 'latitude': '34.0...\n",
       "132422    {'longitude': '-118.260948', 'latitude': '34.0...\n",
       "132423    {'longitude': '-118.260948', 'latitude': '34.0...\n",
       "132424    {'longitude': '-118.236488', 'latitude': '34.0...\n",
       "132425    {'longitude': '-118.236488', 'latitude': '34.0...\n",
       "132426    {'longitude': '-118.246422', 'latitude': '34.0...\n",
       "Name: Ending_Lat-Long, Length: 132427, dtype: object"
      ]
     },
     "execution_count": 4,
     "metadata": {},
     "output_type": "execute_result"
    }
   ],
   "source": [
    "df[\"Trip_ID\"].astype(int)\n",
    "df[\"Duration\"].astype(int)\n",
    "df[\"Start_Time\"].astype(str)\n",
    "df[\"End_Time\"].astype(str)\n",
    "df[\"Starting_Station_ID\"].astype(float)\n",
    "df[\"Starting_Station_Latitude\"].astype(float)\n",
    "df[\"Starting_Station_Longitude\"].astype(float)\n",
    "df[\"Ending_Station_ID\"].astype(float)\n",
    "df[\"Ending_Station_Latitude\"].astype(float)\n",
    "df[\"Ending_Station_Longitude\"].astype(float)\n",
    "df[\"Bike_ID\"].astype(float)\n",
    "df[\"Trip_Route_Category\"].astype(str)\n",
    "df[\"Passholder_Type\"].astype(str)\n",
    "df[\"Starting_Lat-Long\"].astype(str)\n",
    "df[\"Ending_Lat-Long\"].astype(str)"
   ]
  },
  {
   "cell_type": "code",
   "execution_count": 5,
   "metadata": {},
   "outputs": [
    {
     "data": {
      "text/plain": [
       "array(['Round Trip', 'One Way'], dtype=object)"
      ]
     },
     "execution_count": 5,
     "metadata": {},
     "output_type": "execute_result"
    }
   ],
   "source": [
    "df.Trip_Route_Category.unique()"
   ]
  },
  {
   "cell_type": "code",
   "execution_count": 6,
   "metadata": {},
   "outputs": [
    {
     "data": {
      "text/plain": [
       "array(['Monthly Pass', 'Flex Pass', 'Walk-up', 'Staff Annual'],\n",
       "      dtype=object)"
      ]
     },
     "execution_count": 6,
     "metadata": {},
     "output_type": "execute_result"
    }
   ],
   "source": [
    "df.Passholder_Type.unique()"
   ]
  },
  {
   "cell_type": "code",
   "execution_count": 8,
   "metadata": {},
   "outputs": [],
   "source": [
    "for index, row in df.iterrows():\n",
    "    passUsed = row[\"Passholder_Type\"]\n",
    "    tripCategory = row[\"Trip_Route_Category\"]\n",
    "    if passUsed == \"Monthly Pass\" and tripCategory == \"Round Trip\":\n",
    "        monthlyRound.append(passUsed)\n",
    "    elif passUsed == \"Flex Pass\" and tripCategory == \"Round Trip\":\n",
    "        flexRound.append(passUsed)\n",
    "    elif passUsed == \"Walk-Up\" and tripCategory == \"Round Trip\":\n",
    "        walkRound.append(passUsed)\n",
    "    elif passUsed == \"Staff Annual\" and tripCategory == \"Round Trip\":\n",
    "        staffRound.append(passUsed)\n",
    "    elif passUsed == \"Monthly Pass\" and tripCategory == \"One Way\":\n",
    "        monthlyOne.append(passUsed)\n",
    "    elif passUsed == \"Flex Pass\" and tripCategory == \"One Way\":\n",
    "        flexOne.append(passUsed)\n",
    "    elif passUsed == \"Walk-Up\" and tripCategory == \"One Way\":\n",
    "        walkOne.append(passUsed)\n",
    "    elif passUsed == \"Staff Annual\" and tripCategory == \"One Way\":\n",
    "        staffOne.append(passUsed)"
   ]
  },
  {
   "cell_type": "code",
   "execution_count": 19,
   "metadata": {},
   "outputs": [
    {
     "name": "stdout",
     "output_type": "stream",
     "text": [
      "Round Trips Counts: \n",
      "Monthly passes count - 3772\n",
      "Flex passes count - 483\n",
      "Walk-up passes count - 0\n",
      "Staff Annual passes count - 83\n",
      "\n",
      "One Way Trips Counts:\n",
      "Monthly passes count - 77532\n",
      "Flex passes count - 9034\n",
      "Walk-up passes count - 0\n",
      "Staff Annual passes count - 299\n",
      "\n"
     ]
    }
   ],
   "source": [
    "#Different types of Passholder types for Round Trip\n",
    "print (\"Round Trips Counts: \")\n",
    "print (\"Monthly passes count - {}\".format(len(monthlyRound)))\n",
    "print (\"Flex passes count - {}\".format(len(flexRound)))\n",
    "print (\"Walk-up passes count - {}\".format(len(walkRound)))\n",
    "print (\"Staff Annual passes count - {}\\n\".format(len(staffRound)))\n",
    "\n",
    "#Different types of Passholder types for One Way Trip\n",
    "print (\"One Way Trips Counts:\")\n",
    "print (\"Monthly passes count - {}\".format(len(monthlyOne)))\n",
    "print (\"Flex passes count - {}\".format(len(flexOne)))\n",
    "print (\"Walk-up passes count - {}\".format(len(walkOne)))\n",
    "print (\"Staff Annual passes count - {}\\n\".format(len(staffOne)))"
   ]
  },
  {
   "cell_type": "code",
   "execution_count": null,
   "metadata": {},
   "outputs": [],
   "source": []
  }
 ],
 "metadata": {
  "kernelspec": {
   "display_name": "Python 3",
   "language": "python",
   "name": "python3"
  },
  "language_info": {
   "codemirror_mode": {
    "name": "ipython",
    "version": 3
   },
   "file_extension": ".py",
   "mimetype": "text/x-python",
   "name": "python",
   "nbconvert_exporter": "python",
   "pygments_lexer": "ipython3",
   "version": "3.7.0"
  }
 },
 "nbformat": 4,
 "nbformat_minor": 2
}
